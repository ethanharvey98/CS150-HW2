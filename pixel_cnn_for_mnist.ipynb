{
  "nbformat": 4,
  "nbformat_minor": 0,
  "metadata": {
    "colab": {
      "provenance": []
    },
    "kernelspec": {
      "name": "python3",
      "display_name": "Python 3"
    },
    "language_info": {
      "name": "python"
    }
  },
  "cells": [
    {
      "cell_type": "markdown",
      "source": [
        "# A sequential generative model for MNIST\n",
        "\n",
        "The PixelCNN [1] generates images through the conditional probabilities. The model fits the probability $p(x_i | x_{<i})$.\n",
        "* During training: we need to from training pairs (x_{<i}, x_i) and use these pairs to train the model.\n",
        "* During generation, we loop through $i=0, \\ldots, d-1$, and generate each pixel $x_i$ through a sample $p(x_i | x_{<i})$.\n",
        "\n",
        "\n",
        "**Work to complete**:\n",
        "1. [2 points] create the CNN model. You may want to start with a simple network and then gradually increase its depth/width.\n",
        "2. [2 points] set up the training loop. Please remember to call the function \"form_conditional_samples\"\n",
        "3. [4 points] train the model. After training, please show the test loss in each epoch. The test loss should descent with the training epochs.\n",
        "4. [2 points] show the generate examples.\n",
        "5. [5 points] There are two sub-questions below. Please answer these two questions before or after the coding part.\n",
        "\n",
        "\n",
        "**Extra notes**:\n",
        "1. Please use LLMs (Gemini associated with the notebook or others) to generate the code for each cell. Free versions of LLMs are sufficient for the work. You can use Claude or GPT by typing the prompts there and copying the code back to the notebook.\n",
        "\n",
        "2. With your Tufts email, you can apply for GPU computation credits. Please do apply for the credits early.\n",
        "\n",
        "3. You are reponsible for the correctness of the the code, not the LLM.\n",
        "\n",
        "\n",
        "\n",
        "[1] Aäron van den Oord, Nal Kalchbrenner, Oriol Vinyals, Lasse Espeholt, Alex Graves, and Koray Kavukcuoglu. 2016. Conditional image generation with PixelCNN decoders. In Proceedings of the 30th International Conference on Neural Information Processing Systems (NIPS'16). Curran Associates Inc., Red Hook, NY, USA, 4797–4805."
      ],
      "metadata": {
        "id": "o58i0xyiCwFq"
      }
    },
    {
      "cell_type": "markdown",
      "source": [
        "**Sub-question 5.1** (2 points). Suppose we want the model to predict $x_i$ at the $i$-th step, why are we so strict about not letting the model using entries after $i$? What's the consequence if we forget to mask out all bits after $i - 1$?\n",
        "\n",
        "**Answer:**"
      ],
      "metadata": {
        "id": "LosxIVQI7OTO"
      }
    },
    {
      "cell_type": "markdown",
      "source": [
        "**Sub-question 5.3** (3 points). Suppose we take a random batch of test instances and select random locations for each test instance to compute a test loss for plotting and monitoring the training progress. Is the test loss an unbiased estimation of the log-likelihood of test instances? Please given an answer and explain your reason. Please remember: our goal is to maximize the log-likelihood of *test* data to avoid overfitting.\n",
        "\n",
        "**Answer:**"
      ],
      "metadata": {
        "id": "bos4Y9qc8hxk"
      }
    },
    {
      "cell_type": "markdown",
      "metadata": {
        "id": "4d018953"
      },
      "source": [
        "## Download and prepare data"
      ]
    },
    {
      "cell_type": "code",
      "metadata": {
        "id": "ZxyvSYrrxGpR",
        "colab": {
          "base_uri": "https://localhost:8080/",
          "height": 264
        },
        "outputId": "44960cfd-c5bf-4e06-fe1a-6e1e258b77ae"
      },
      "source": [
        "import torch\n",
        "import torchvision\n",
        "import torchvision.transforms as transforms\n",
        "import numpy as np\n",
        "\n",
        "\n",
        "trainset = torchvision.datasets.MNIST(root='./data', train=True, download=True)\n",
        "testset = torchvision.datasets.MNIST(root='./data', train=False, download=True)\n",
        "\n",
        "train_images = trainset.data.numpy()\n",
        "test_images = testset.data.numpy()\n",
        "\n",
        "# Let's work on the simple case and make mnist binary data\n",
        "\n",
        "train_images = (train_images > 128).astype(np.float32)\n",
        "test_images = (test_images > 128).astype(np.float32)\n",
        "\n",
        "# show a few images from the training set\n",
        "\n",
        "import matplotlib.pyplot as plt\n",
        "fig, axes = plt.subplots(nrows=1, ncols=4, figsize=(12, 3))\n",
        "for idx, img in enumerate(train_images[:4]):\n",
        "    axes[idx].imshow(img, cmap='gray')\n",
        "\n"
      ],
      "execution_count": null,
      "outputs": [
        {
          "output_type": "display_data",
          "data": {
            "text/plain": [
              "<Figure size 1200x300 with 4 Axes>"
            ],
            "image/png": "[encoded data removed]"
          },
          "metadata": {}
        }
      ]
    },
    {
      "cell_type": "markdown",
      "source": [
        "## Define the mdoel"
      ],
      "metadata": {
        "id": "qvxpkWzsGSn1"
      }
    },
    {
      "cell_type": "code",
      "source": [
        "# Please create your model here"
      ],
      "metadata": {
        "id": "xs9eRpmWGRN8"
      },
      "execution_count": 1,
      "outputs": []
    },
    {
      "cell_type": "markdown",
      "source": [
        "\n",
        "## Forming random batches\n",
        "\n",
        "For each instance x, get the training example: $(x_{<i}, x_i)$, with $x_{<i}$ being the neural network input, and $x_i$ being the predicting target.\n"
      ],
      "metadata": {
        "id": "_pqGXgfdG6qP"
      }
    },
    {
      "cell_type": "code",
      "source": [
        "# Given a batch of images, randomly generate positions to create samples for conditional distributions\n",
        "\n",
        "# Let x_batch be a batch of samples with shape [B, d]\n",
        "# Randomly generate B integers in range [0, d), each integer pointing to one of d elements.\n",
        "# This element is the target, and the elements before this element are conditions, and the elements afterward are not observed\n",
        "#\n",
        "\n",
        "\n",
        "def form_conditional_samples(x_batch):\n",
        "    \"\"\"\n",
        "    Convert a batch of B images to conditional samples.\n",
        "    First generate B integers, each of which indexes the target, while the pixels before the index\n",
        "    are the condition, and pixels after the index are not observed.\n",
        "    Then for each instance, create three channels.\n",
        "      - The first channel is 1 if the original value is 0 and before the target,\n",
        "      - The second channel is 1 if the original value is 1 and before the target,\n",
        "      - The third channel is 1 if the pixels are the target or after the target pixel.\n",
        "    The target is a vector containing the targe of each image in the batch\n",
        "    \"\"\"\n",
        "    B, H, W = x_batch.shape\n",
        "    N = H * W  # total pixels\n",
        "    x_flat = x_batch.view(B, N)\n",
        "\n",
        "    # Random target index for each image\n",
        "    target_idx = torch.randint(low=0, high=N, size=(B,))\n",
        "\n",
        "    # Initialize output tensor: [B, 3, H, W]\n",
        "    out = torch.zeros(B, 3, H, W, dtype=torch.float32)\n",
        "    target = torch.zeros(B, dtype=torch.float32)\n",
        "\n",
        "    for i in range(B):\n",
        "        idx = target_idx[i]\n",
        "        # Pixels before target\n",
        "        before = x_flat[i, :idx]\n",
        "        # Pixels after (including) target\n",
        "        after = x_flat[i, idx:]\n",
        "\n",
        "        # First channel: 1 if pixel is 0 and before target\n",
        "        ch1 = (before == 0).float()\n",
        "        # Second channel: 1 if pixel is 1 and before target\n",
        "        ch2 = (before == 1).float()\n",
        "        # Third channel: 1 for target and after\n",
        "        ch3 = torch.ones_like(after)\n",
        "\n",
        "        # Combine channels and reshape\n",
        "        out[i, 0, :idx] = ch1\n",
        "        out[i, 1, :idx] = ch2\n",
        "        out[i, 2, idx:] = ch3\n",
        "\n",
        "        target[i] = x_flat[i, idx]\n",
        "\n",
        "    return out, target\n"
      ],
      "metadata": {
        "id": "dC60AzV8HDe1"
      },
      "execution_count": null,
      "outputs": []
    },
    {
      "cell_type": "code",
      "source": [
        "# Now please generate the dataloader that load batches of training examples. Each batch should be converted using the function above.\n"
      ],
      "metadata": {
        "id": "uo59JOzENCJg"
      },
      "execution_count": null,
      "outputs": []
    },
    {
      "cell_type": "markdown",
      "source": [
        "## Now we form the training loop"
      ],
      "metadata": {
        "id": "mQOmFZbtKUZn"
      }
    },
    {
      "cell_type": "code",
      "source": [
        "# Define loss function and optimizer\n",
        "\n",
        "# Training loop\n"
      ],
      "metadata": {
        "id": "2dqlGbnA7XZO"
      },
      "execution_count": null,
      "outputs": []
    },
    {
      "cell_type": "markdown",
      "source": [
        "## Plot the curve of training and test losses"
      ],
      "metadata": {
        "id": "T_sT73t89yzm"
      }
    },
    {
      "cell_type": "code",
      "source": [
        "# Please plot your training and test losses against training epochs (or every say 1000 iterations) so you can make sure the model is trained properly.\n",
        "# The optimization has converged, and there is not an obvious overfitting issue."
      ],
      "metadata": {
        "id": "lwLbwR_59yFQ"
      },
      "execution_count": 3,
      "outputs": []
    },
    {
      "cell_type": "markdown",
      "metadata": {
        "id": "d7b50525"
      },
      "source": [
        "## Generate images with the CNN model\n",
        "\n",
        "\n"
      ]
    },
    {
      "cell_type": "code",
      "metadata": {
        "id": "fdb7f2d7"
      },
      "source": [
        "\n",
        "# at each step, the input is the incomplete image. To generate the image:\n",
        "# * Run the CNN to predict the next pixel.\n",
        "# * Append it to the incomplete\n",
        "# * loop over the two previous steps\n",
        "\n",
        "\n"
      ],
      "execution_count": null,
      "outputs": []
    },
    {
      "cell_type": "code",
      "source": [
        "# Plot your generated images here"
      ],
      "metadata": {
        "id": "D3A-_7QN7BqE"
      },
      "execution_count": null,
      "outputs": []
    }
  ]
}