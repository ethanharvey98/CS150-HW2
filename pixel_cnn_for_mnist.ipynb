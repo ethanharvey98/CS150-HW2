{
 "cells": [
  {
   "cell_type": "markdown",
   "metadata": {
    "id": "o58i0xyiCwFq"
   },
   "source": [
    "# A sequential generative model for MNIST\n",
    "\n",
    "The PixelCNN [1] generates images through the conditional probabilities. The model fits the probability $p(x_i | x_{<i})$.\n",
    "* During training: we need to from training pairs (x_{<i}, x_i) and use these pairs to train the model.\n",
    "* During generation, we loop through $i=0, \\ldots, d-1$, and generate each pixel $x_i$ through a sample $p(x_i | x_{<i})$.\n",
    "\n",
    "\n",
    "**Work to complete**:\n",
    "1. [2 points] create the CNN model. You may want to start with a simple network and then gradually increase its depth/width.\n",
    "2. [2 points] set up the training loop. Please remember to call the function \"form_conditional_samples\"\n",
    "3. [4 points] train the model. After training, please show the test loss in each epoch. The test loss should descent with the training epochs.\n",
    "4. [2 points] show the generate examples.\n",
    "5. [5 points] There are two sub-questions below. Please answer these two questions before or after the coding part.\n",
    "\n",
    "\n",
    "**Extra notes**:\n",
    "1. Please use LLMs (Gemini associated with the notebook or others) to generate the code for each cell. Free versions of LLMs are sufficient for the work. You can use Claude or GPT by typing the prompts there and copying the code back to the notebook.\n",
    "\n",
    "2. With your Tufts email, you can apply for GPU computation credits. Please do apply for the credits early.\n",
    "\n",
    "3. You are reponsible for the correctness of the the code, not the LLM.\n",
    "\n",
    "\n",
    "\n",
    "[1] Aäron van den Oord, Nal Kalchbrenner, Oriol Vinyals, Lasse Espeholt, Alex Graves, and Koray Kavukcuoglu. 2016. Conditional image generation with PixelCNN decoders. In Proceedings of the 30th International Conference on Neural Information Processing Systems (NIPS'16). Curran Associates Inc., Red Hook, NY, USA, 4797–4805."
   ]
  },
  {
   "cell_type": "markdown",
   "metadata": {
    "id": "LosxIVQI7OTO"
   },
   "source": [
    "**Sub-question 5.1** (2 points). Suppose we want the model to predict $x_i$ at the $i$-th step, why are we so strict about not letting the model using entries after $i$? What's the consequence if we forget to mask out all bits after $i - 1$?\n",
    "\n",
    "**Answer:** If we allow the model to use entries after $i$, then it would have access to future pixels when making a prediction. This would make training inconsistent with generation. During generation, the model only has access to previously generate pixels ($x_1, \\dots, x_{i-1}$), not future ones. Without masking, the model could \"cheat\" by looking at the true future pixels, leading to artificially low training loss but poor generation performance, since it would no longer have access to future pixels."
   ]
  },
  {
   "cell_type": "markdown",
   "metadata": {
    "id": "bos4Y9qc8hxk"
   },
   "source": [
    "**Sub-question 5.3** (3 points). Suppose we take a random batch of test instances and select random locations for each test instance to compute a test loss for plotting and monitoring the training progress. Is the test loss an unbiased estimation of the log-likelihood of test instances? Please given an answer and explain your reason. Please remember: our goal is to maximize the log-likelihood of *test* data to avoid overfitting.\n",
    "\n",
    "**Answer:** With proper scaling, the test loss is an unbiased estimation of the log-likelihood of test instances.\n",
    "\n",
    "The full log-likelihood is\n",
    "$$\n",
    "    \\log p(x) = \\sum_{n=1}^N \\sum_{d=1}^D \\log p(x_{n,d} \\mid x_{n,<d}).\n",
    "$$\n",
    "If we take a random batch of test instances and select random locations for each test instance the unbiased estimator is\n",
    "$$\n",
    "    \\log p(x) \\approx \\frac{N}{\\left|B\\right|} \\sum_{b \\in B} \\frac{D}{\\left|S_b\\right|} \\sum_{d \\in S_b} \\log p(x_{b,d} \\mid x_{b,<d}).\n",
    "$$\n",
    "Without proper scaling, the test loss is not an unbiased estimation of the log-likelihood of test instances but the optimization process will yield similar results."
   ]
  },
  {
   "cell_type": "markdown",
   "metadata": {
    "id": "4d018953"
   },
   "source": [
    "## Download and prepare data"
   ]
  },
  {
   "cell_type": "code",
   "execution_count": 1,
   "metadata": {
    "colab": {
     "base_uri": "https://localhost:8080/",
     "height": 264
    },
    "id": "ZxyvSYrrxGpR",
    "outputId": "44960cfd-c5bf-4e06-fe1a-6e1e258b77ae"
   },
   "outputs": [
    {
     "data": {
      "image/png": "[encoded data removed]",
      "text/plain": [
       "<Figure size 1200x300 with 4 Axes>"
      ]
     },
     "metadata": {},
     "output_type": "display_data"
    }
   ],
   "source": [
    "import torch\n",
    "import torchvision\n",
    "import torchvision.transforms as transforms\n",
    "import numpy as np\n",
    "\n",
    "\n",
    "trainset = torchvision.datasets.MNIST(root='./data', train=True, download=True)\n",
    "testset = torchvision.datasets.MNIST(root='./data', train=False, download=True)\n",
    "\n",
    "train_images = trainset.data.numpy()\n",
    "test_images = testset.data.numpy()\n",
    "\n",
    "# Let's work on the simple case and make mnist binary data\n",
    "\n",
    "train_images = (train_images > 128).astype(np.float32)\n",
    "test_images = (test_images > 128).astype(np.float32)\n",
    "\n",
    "# show a few images from the training set\n",
    "\n",
    "import matplotlib.pyplot as plt\n",
    "fig, axes = plt.subplots(nrows=1, ncols=4, figsize=(12, 3))\n",
    "for idx, img in enumerate(train_images[:4]):\n",
    "    axes[idx].imshow(img, cmap='gray')\n",
    "\n"
   ]
  },
  {
   "cell_type": "markdown",
   "metadata": {
    "id": "qvxpkWzsGSn1"
   },
   "source": [
    "## Define the mdoel"
   ]
  },
  {
   "cell_type": "code",
   "execution_count": 2,
   "metadata": {
    "id": "xs9eRpmWGRN8"
   },
   "outputs": [],
   "source": [
    "# Please create your model here\n",
    "\n",
    "class CNN(torch.nn.Module):\n",
    "    def __init__(self, num_classes=1):\n",
    "        super().__init__()\n",
    "        self.conv = torch.nn.Sequential(\n",
    "            torch.nn.Conv2d(in_channels=3, out_channels=32, kernel_size=3, padding=1),\n",
    "            torch.nn.ReLU(),\n",
    "            torch.nn.MaxPool2d(kernel_size=2),\n",
    "            torch.nn.Conv2d(in_channels=32, out_channels=64, kernel_size=3, padding=1),\n",
    "            torch.nn.ReLU(),\n",
    "            torch.nn.MaxPool2d(kernel_size=2),\n",
    "            torch.nn.Conv2d(in_channels=64, out_channels=128, kernel_size=3, padding=1),\n",
    "            torch.nn.ReLU(),\n",
    "        )\n",
    "        self.fc = torch.nn.Sequential(\n",
    "            torch.nn.Flatten(),\n",
    "            torch.nn.Linear(in_features=128 * 7 * 7, out_features=256),\n",
    "            torch.nn.ReLU(),\n",
    "            torch.nn.Linear(in_features=256, out_features=num_classes),\n",
    "        )\n",
    "\n",
    "    def forward(self, x):\n",
    "        x = self.conv(x)\n",
    "        x = self.fc(x)\n",
    "        return x.squeeze(-1)\n"
   ]
  },
  {
   "cell_type": "markdown",
   "metadata": {
    "id": "_pqGXgfdG6qP"
   },
   "source": [
    "\n",
    "## Forming random batches\n",
    "\n",
    "For each instance x, get the training example: $(x_{<i}, x_i)$, with $x_{<i}$ being the neural network input, and $x_i$ being the predicting target.\n"
   ]
  },
  {
   "cell_type": "code",
   "execution_count": 3,
   "metadata": {
    "id": "dC60AzV8HDe1"
   },
   "outputs": [],
   "source": [
    "# Given a batch of images, randomly generate positions to create samples for conditional distributions\n",
    "\n",
    "# Let x_batch be a batch of samples with shape [B, d]\n",
    "# Randomly generate B integers in range [0, d), each integer pointing to one of d elements.\n",
    "# This element is the target, and the elements before this element are conditions, and the elements afterward are not observed\n",
    "#\n",
    "\n",
    "\n",
    "def form_conditional_samples(x_batch):\n",
    "    \"\"\"\n",
    "    Convert a batch of B images to conditional samples.\n",
    "    First generate B integers, each of which indexes the target, while the pixels before the index\n",
    "    are the condition, and pixels after the index are not observed.\n",
    "    Then for each instance, create three channels.\n",
    "      - The first channel is 1 if the original value is 0 and before the target,\n",
    "      - The second channel is 1 if the original value is 1 and before the target,\n",
    "      - The third channel is 1 if the pixels are the target or after the target pixel.\n",
    "    The target is a vector containing the targe of each image in the batch\n",
    "    \"\"\"\n",
    "    B, H, W = x_batch.shape\n",
    "    N = H * W  # total pixels\n",
    "    x_flat = x_batch.view(B, N)\n",
    "\n",
    "    # Random target index for each image\n",
    "    target_idx = torch.randint(low=0, high=N, size=(B,))\n",
    "\n",
    "    # Initialize output tensor: [B, 3, H, W]\n",
    "    #out = torch.zeros(B, 3, H, W, dtype=torch.float32)\n",
    "    out = torch.zeros(B, 3, N, dtype=torch.float32)\n",
    "    target = torch.zeros(B, dtype=torch.float32)\n",
    "\n",
    "    for i in range(B):\n",
    "        idx = target_idx[i]\n",
    "        # Pixels before target\n",
    "        before = x_flat[i, :idx]\n",
    "        # Pixels after (including) target\n",
    "        after = x_flat[i, idx:]\n",
    "\n",
    "        # First channel: 1 if pixel is 0 and before target\n",
    "        ch1 = (before == 0).float()\n",
    "        # Second channel: 1 if pixel is 1 and before target\n",
    "        ch2 = (before == 1).float()\n",
    "        # Third channel: 1 for target and after\n",
    "        ch3 = torch.ones_like(after)\n",
    "\n",
    "        # Combine channels and reshape\n",
    "        out[i, 0, :idx] = ch1\n",
    "        out[i, 1, :idx] = ch2\n",
    "        out[i, 2, idx:] = ch3\n",
    "\n",
    "        target[i] = x_flat[i, idx]\n",
    "        \n",
    "    out = out.view(B, 3, H, W)\n",
    "\n",
    "    return out, target\n"
   ]
  },
  {
   "cell_type": "code",
   "execution_count": 4,
   "metadata": {
    "id": "uo59JOzENCJg"
   },
   "outputs": [
    {
     "name": "stdout",
     "output_type": "stream",
     "text": [
      "x_batch.shape: torch.Size([64, 3, 28, 28])\n",
      "y_batch.shape: torch.Size([64])\n"
     ]
    },
    {
     "data": {
      "image/png": "[encoded data removed]",
      "text/plain": [
       "<Figure size 600x300 with 2 Axes>"
      ]
     },
     "metadata": {},
     "output_type": "display_data"
    }
   ],
   "source": [
    "# Now please generate the dataloader that load batches of training examples. Each batch should be converted using the function above.\n",
    "\n",
    "class ConditionalDataset(torch.utils.data.Dataset):\n",
    "    def __init__(self, images, transform=None):\n",
    "        self.images = images\n",
    "        self.transform = transform\n",
    "\n",
    "    def __len__(self):\n",
    "        return self.images.shape[0]\n",
    "\n",
    "    def __getitem__(self, idx):\n",
    "        return self.images[idx] if self.transform is None else self.transform(self.images[idx])\n",
    "\n",
    "def collate_conditional(batch):\n",
    "    x_batch = torch.stack(batch, dim=0)\n",
    "    out, target = form_conditional_samples(x_batch)\n",
    "    return out, target\n",
    "\n",
    "train_dataset = ConditionalDataset(train_images, lambda image: torch.from_numpy(image))\n",
    "test_dataset = ConditionalDataset(test_images, lambda image: torch.from_numpy(image))\n",
    "train_dataloader = torch.utils.data.DataLoader(train_dataset, batch_size=64, shuffle=True, collate_fn=collate_conditional)\n",
    "test_dataloader = torch.utils.data.DataLoader(test_dataset, batch_size=64, shuffle=True, collate_fn=collate_conditional)\n",
    "\n",
    "x_batch, y_batch = next(iter(train_dataloader))\n",
    "print(f\"x_batch.shape: {x_batch.shape}\")\n",
    "print(f\"y_batch.shape: {y_batch.shape}\")\n",
    "\n",
    "i = 0\n",
    "\n",
    "ncols, nrows = 2, 1\n",
    "fig, axs = plt.subplots(figsize=(3*ncols, 3*nrows), ncols=ncols, nrows=nrows)\n",
    "\n",
    "axs[0].imshow(x_batch[i,2].numpy(), cmap='gray')\n",
    "axs[0].set_title(f\"Target pixel: {int(y_batch[i].item())}\")\n",
    "\n",
    "axs[1].imshow(x_batch[i,0].numpy(), cmap='gray')\n",
    "axs[1].set_title(\"Zeros before target\")\n",
    "    \n",
    "fig.tight_layout()\n",
    "plt.show()"
   ]
  },
  {
   "cell_type": "markdown",
   "metadata": {
    "id": "mQOmFZbtKUZn"
   },
   "source": [
    "## Now we form the training loop"
   ]
  },
  {
   "cell_type": "code",
   "execution_count": 5,
   "metadata": {},
   "outputs": [],
   "source": [
    "def train_one_epoch(model, criterion, optimizer, dataloader):\n",
    "    \n",
    "    device = next(model.parameters()).device\n",
    "    model.train()\n",
    "    \n",
    "    dataset_size = len(dataloader) * dataloader.batch_size if dataloader.drop_last else len(dataloader.dataset)\n",
    "    running_loss = 0.0\n",
    "    \n",
    "    for x, y in dataloader:\n",
    "        \n",
    "        batch_size = len(x)\n",
    "        \n",
    "        x, y = x.to(device), y.to(device)\n",
    "\n",
    "        optimizer.zero_grad()\n",
    "        logits = model(x)\n",
    "        loss = criterion(logits, y)\n",
    "        loss.backward()\n",
    "        optimizer.step()\n",
    "\n",
    "        running_loss += (batch_size / dataset_size) * loss.item()\n",
    "\n",
    "    return running_loss\n",
    "\n",
    "def evaluate(model, criterion, dataloader):\n",
    "\n",
    "    device = next(model.parameters()).device\n",
    "    model.eval()\n",
    "    \n",
    "    dataset_size = len(dataloader) * dataloader.batch_size if dataloader.drop_last else len(dataloader.dataset)\n",
    "    running_loss = 0.0\n",
    "    \n",
    "    with torch.no_grad():\n",
    "        for x, y in dataloader:\n",
    "\n",
    "            batch_size = len(x)\n",
    "\n",
    "            x, y = x.to(device), y.to(device)\n",
    "\n",
    "            logits = model(x)\n",
    "            loss = criterion(logits, y)\n",
    "\n",
    "            running_loss += (batch_size / dataset_size) * loss.item()\n",
    "\n",
    "    return running_loss\n"
   ]
  },
  {
   "cell_type": "code",
   "execution_count": 6,
   "metadata": {
    "id": "2dqlGbnA7XZO"
   },
   "outputs": [
    {
     "name": "stdout",
     "output_type": "stream",
     "text": [
      "cuda:0\n",
      "Epoch [1/100], Loss: 0.2305\n",
      "Epoch [2/100], Loss: 0.1330\n",
      "Epoch [3/100], Loss: 0.1214\n",
      "Epoch [4/100], Loss: 0.1124\n",
      "Epoch [5/100], Loss: 0.1085\n",
      "Epoch [6/100], Loss: 0.1022\n",
      "Epoch [7/100], Loss: 0.1019\n",
      "Epoch [8/100], Loss: 0.1033\n",
      "Epoch [9/100], Loss: 0.0988\n",
      "Epoch [10/100], Loss: 0.0953\n",
      "Epoch [11/100], Loss: 0.0957\n",
      "Epoch [12/100], Loss: 0.0970\n",
      "Epoch [13/100], Loss: 0.0932\n",
      "Epoch [14/100], Loss: 0.0949\n",
      "Epoch [15/100], Loss: 0.0925\n",
      "Epoch [16/100], Loss: 0.0916\n",
      "Epoch [17/100], Loss: 0.0914\n",
      "Epoch [18/100], Loss: 0.0886\n",
      "Epoch [19/100], Loss: 0.0902\n",
      "Epoch [20/100], Loss: 0.0893\n",
      "Epoch [21/100], Loss: 0.0900\n",
      "Epoch [22/100], Loss: 0.0923\n",
      "Epoch [23/100], Loss: 0.0892\n",
      "Epoch [24/100], Loss: 0.0875\n",
      "Epoch [25/100], Loss: 0.0894\n",
      "Epoch [26/100], Loss: 0.0902\n",
      "Epoch [27/100], Loss: 0.0919\n",
      "Epoch [28/100], Loss: 0.0923\n",
      "Epoch [29/100], Loss: 0.0909\n",
      "Epoch [30/100], Loss: 0.0893\n",
      "Epoch [31/100], Loss: 0.0884\n",
      "Epoch [32/100], Loss: 0.0902\n",
      "Epoch [33/100], Loss: 0.0872\n",
      "Epoch [34/100], Loss: 0.0884\n",
      "Epoch [35/100], Loss: 0.0871\n",
      "Epoch [36/100], Loss: 0.0878\n",
      "Epoch [37/100], Loss: 0.0846\n",
      "Epoch [38/100], Loss: 0.0879\n",
      "Epoch [39/100], Loss: 0.0872\n",
      "Epoch [40/100], Loss: 0.0904\n",
      "Epoch [41/100], Loss: 0.0891\n",
      "Epoch [42/100], Loss: 0.0878\n",
      "Epoch [43/100], Loss: 0.0844\n",
      "Epoch [44/100], Loss: 0.0872\n",
      "Epoch [45/100], Loss: 0.0868\n",
      "Epoch [46/100], Loss: 0.0863\n",
      "Epoch [47/100], Loss: 0.0866\n",
      "Epoch [48/100], Loss: 0.0883\n",
      "Epoch [49/100], Loss: 0.0858\n",
      "Epoch [50/100], Loss: 0.0884\n",
      "Epoch [51/100], Loss: 0.0880\n",
      "Epoch [52/100], Loss: 0.0872\n",
      "Epoch [53/100], Loss: 0.0884\n",
      "Epoch [54/100], Loss: 0.0849\n",
      "Epoch [55/100], Loss: 0.0844\n",
      "Epoch [56/100], Loss: 0.0856\n",
      "Epoch [57/100], Loss: 0.0862\n",
      "Epoch [58/100], Loss: 0.0854\n",
      "Epoch [59/100], Loss: 0.0848\n",
      "Epoch [60/100], Loss: 0.0838\n",
      "Epoch [61/100], Loss: 0.0868\n",
      "Epoch [62/100], Loss: 0.0848\n",
      "Epoch [63/100], Loss: 0.0857\n",
      "Epoch [64/100], Loss: 0.0874\n",
      "Epoch [65/100], Loss: 0.0851\n",
      "Epoch [66/100], Loss: 0.0848\n",
      "Epoch [67/100], Loss: 0.0873\n",
      "Epoch [68/100], Loss: 0.0870\n",
      "Epoch [69/100], Loss: 0.0858\n",
      "Epoch [70/100], Loss: 0.0861\n",
      "Epoch [71/100], Loss: 0.0834\n",
      "Epoch [72/100], Loss: 0.0835\n",
      "Epoch [73/100], Loss: 0.0868\n",
      "Epoch [74/100], Loss: 0.0852\n",
      "Epoch [75/100], Loss: 0.0869\n",
      "Epoch [76/100], Loss: 0.0872\n",
      "Epoch [77/100], Loss: 0.0850\n",
      "Epoch [78/100], Loss: 0.0865\n",
      "Epoch [79/100], Loss: 0.0852\n",
      "Epoch [80/100], Loss: 0.0849\n",
      "Epoch [81/100], Loss: 0.0838\n",
      "Epoch [82/100], Loss: 0.0851\n",
      "Epoch [83/100], Loss: 0.0867\n",
      "Epoch [84/100], Loss: 0.0870\n",
      "Epoch [85/100], Loss: 0.0885\n",
      "Epoch [86/100], Loss: 0.0844\n",
      "Epoch [87/100], Loss: 0.0859\n",
      "Epoch [88/100], Loss: 0.0874\n",
      "Epoch [89/100], Loss: 0.0851\n",
      "Epoch [90/100], Loss: 0.0861\n",
      "Epoch [91/100], Loss: 0.0852\n",
      "Epoch [92/100], Loss: 0.0843\n",
      "Epoch [93/100], Loss: 0.0829\n",
      "Epoch [94/100], Loss: 0.0888\n",
      "Epoch [95/100], Loss: 0.0857\n",
      "Epoch [96/100], Loss: 0.0852\n",
      "Epoch [97/100], Loss: 0.0860\n",
      "Epoch [98/100], Loss: 0.0835\n",
      "Epoch [99/100], Loss: 0.0834\n",
      "Epoch [100/100], Loss: 0.0836\n"
     ]
    }
   ],
   "source": [
    "lr = 0.001\n",
    "num_epochs = 100\n",
    "\n",
    "# Define loss function and optimizer\n",
    "device = torch.device(\"cuda:0\" if torch.cuda.is_available() else \"cpu\")\n",
    "print(device)\n",
    "\n",
    "model = CNN()\n",
    "model.to(device)\n",
    "\n",
    "criterion = torch.nn.BCEWithLogitsLoss()\n",
    "\n",
    "optimizer = torch.optim.Adam(model.parameters(), lr=lr)\n",
    "\n",
    "# Training loop\n",
    "train_losses = []\n",
    "test_losses = []\n",
    "\n",
    "for epoch in range(num_epochs):\n",
    "    \n",
    "    train_loss = train_one_epoch(model, criterion, optimizer, train_dataloader)\n",
    "    test_loss = evaluate(model, criterion, test_dataloader)\n",
    "    \n",
    "    train_losses.append(train_loss)\n",
    "    test_losses.append(test_loss)\n",
    "\n",
    "    if (epoch + 1) % 1 == 0:\n",
    "        print(f\"Epoch [{epoch+1}/{num_epochs}], Loss: {train_loss:.4f}\")\n"
   ]
  },
  {
   "cell_type": "markdown",
   "metadata": {
    "id": "T_sT73t89yzm"
   },
   "source": [
    "## Plot the curve of training and test losses"
   ]
  },
  {
   "cell_type": "code",
   "execution_count": 7,
   "metadata": {
    "id": "lwLbwR_59yFQ"
   },
   "outputs": [
    {
     "data": {
      "image/png": "[encoded data removed]",
      "text/plain": [
       "<Figure size 400x300 with 1 Axes>"
      ]
     },
     "metadata": {},
     "output_type": "display_data"
    }
   ],
   "source": [
    "# Please plot your training and test losses against training epochs (or every say 1000 iterations) so you can make sure the model is trained properly.\n",
    "# The optimization has converged, and there is not an obvious overfitting issue.\n",
    "\n",
    "ncols, nrows = 1, 1\n",
    "fig, ax = plt.subplots(figsize=(4*ncols, 3*nrows), ncols=ncols, nrows=nrows)\n",
    "\n",
    "ax.plot(range(len(train_losses)), train_losses, label=\"Train loss\")\n",
    "ax.plot(range(len(test_losses)), test_losses, label=\"Test loss\")\n",
    "ax.set_xlabel(\"Epoch\")\n",
    "ax.set_ylabel(\"Loss\")\n",
    "ax.legend()\n",
    "\n",
    "fig.tight_layout()\n",
    "plt.show()"
   ]
  },
  {
   "cell_type": "markdown",
   "metadata": {
    "id": "d7b50525"
   },
   "source": [
    "## Generate images with the CNN model\n",
    "\n",
    "\n"
   ]
  },
  {
   "cell_type": "code",
   "execution_count": 8,
   "metadata": {
    "id": "fdb7f2d7"
   },
   "outputs": [],
   "source": [
    "\n",
    "# at each step, the input is the incomplete image. To generate the image:\n",
    "# * Run the CNN to predict the next pixel.\n",
    "# * Append it to the incomplete\n",
    "# * loop over the two previous steps\n",
    "\n",
    "def generate_image(model, H=28, W=28):\n",
    "\n",
    "    device = next(model.parameters()).device\n",
    "    model.eval()\n",
    "    \n",
    "    N = H * W\n",
    "    generated = torch.zeros(N, dtype=torch.float32, device=device)\n",
    "\n",
    "    for step in range(N):\n",
    "        \n",
    "        x_cond = torch.zeros(1, 3, N, device=device)\n",
    "\n",
    "        before = generated[:step]\n",
    "        after_len = N - step\n",
    "\n",
    "        x_cond[0, 0, :step] = (before == 0).float().to(device)\n",
    "        x_cond[0, 1, :step] = (before == 1).float().to(device)\n",
    "        x_cond[0, 2, step:] = 1.0\n",
    "\n",
    "        x_cond = x_cond.view(1, 3, H, W)\n",
    "\n",
    "        with torch.no_grad():\n",
    "            prob = torch.sigmoid(model(x_cond)).item()\n",
    "\n",
    "        generated[step] = torch.bernoulli(torch.tensor(prob, device=device))\n",
    "\n",
    "    return generated.view(H, W).cpu()\n",
    "\n",
    "gen_x_batch = torch.stack([generate_image(model, H=28, W=28) for _ in range(4)])"
   ]
  },
  {
   "cell_type": "code",
   "execution_count": 9,
   "metadata": {
    "id": "D3A-_7QN7BqE"
   },
   "outputs": [
    {
     "data": {
      "image/png": "[encoded data removed]",
      "text/plain": [
       "<Figure size 1200x300 with 4 Axes>"
      ]
     },
     "metadata": {},
     "output_type": "display_data"
    }
   ],
   "source": [
    "# Plot your generated images here\n",
    "\n",
    "ncols, nrows = 4, 1\n",
    "fig, axs = plt.subplots(figsize=(3*ncols, 3*nrows), ncols=ncols, nrows=nrows)\n",
    "\n",
    "axs[0].imshow(gen_x_batch[0].numpy(), cmap='gray')\n",
    "axs[1].imshow(gen_x_batch[1].numpy(), cmap='gray')\n",
    "axs[2].imshow(gen_x_batch[2].numpy(), cmap='gray')\n",
    "axs[3].imshow(gen_x_batch[3].numpy(), cmap='gray')\n",
    "\n",
    "fig.tight_layout()\n",
    "plt.show()"
   ]
  },
  {
   "cell_type": "code",
   "execution_count": null,
   "metadata": {},
   "outputs": [],
   "source": []
  }
 ],
 "metadata": {
  "colab": {
   "provenance": []
  },
  "kernelspec": {
   "display_name": "l3d_2024f_cuda12_1",
   "language": "python",
   "name": "l3d_2024f_cuda12_1"
  },
  "language_info": {
   "codemirror_mode": {
    "name": "ipython",
    "version": 3
   },
   "file_extension": ".py",
   "mimetype": "text/x-python",
   "name": "python",
   "nbconvert_exporter": "python",
   "pygments_lexer": "ipython3",
   "version": "3.12.5"
  }
 },
 "nbformat": 4,
 "nbformat_minor": 1
}
